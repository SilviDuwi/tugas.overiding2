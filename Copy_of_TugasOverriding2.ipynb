{
  "nbformat": 4,
  "nbformat_minor": 0,
  "metadata": {
    "colab": {
      "provenance": [],
      "include_colab_link": true
    },
    "kernelspec": {
      "name": "python3",
      "display_name": "Python 3"
    },
    "language_info": {
      "name": "python"
    }
  },
  "cells": [
    {
      "cell_type": "markdown",
      "metadata": {
        "id": "view-in-github",
        "colab_type": "text"
      },
      "source": [
        "<a href=\"https://colab.research.google.com/github/SilviDuwi/tugas.overiding2/blob/main/Copy_of_TugasOverriding2.ipynb\" target=\"_parent\"><img src=\"https://colab.research.google.com/assets/colab-badge.svg\" alt=\"Open In Colab\"/></a>"
      ]
    },
    {
      "cell_type": "markdown",
      "source": [
        "Anda bekerja sebagai programmer di sebuah supermarket besar. Manajemen supermarket ingin Anda mengembangkan program Python untuk mengelola berbagai jenis produk yang mereka jual di toko mereka. Mereka memiliki kelas dasar **Produk** dengan atribut berikut:\n",
        "\n",
        "*   kode_barang (kode unik produk)\n",
        "*   nama (nama produk)\n",
        "*   harga (harga produk)\n",
        "\n",
        "Selain itu, mereka memiliki dua jenis produk spesifik: **ProdukMakanan** dan **ProdukElektronik**. Produk makanan memiliki atribut tambahan:\n",
        "\n",
        "*   tanggal_kadaluarsa (tanggal kadaluarsa makanan)\n",
        "\n",
        "Sementara Produk elektronik memiliki atribut tambahan:\n",
        "\n",
        "*   garansi (lama garansi dalam bulan)\n",
        "\n",
        "Manajemen supermarket ingin Anda membuat program Python yang memungkinkan mereka untuk mencetak informasi tentang setiap produk, termasuk kode barang, nama, harga, serta atribut tambahan yang sesuai (tanggal kadaluarsa atau lama garansi).\n",
        "\n",
        "Tugas Anda adalah:\n",
        "\n",
        "\n",
        "1.   Membuat kelas Produk dengan atribut kode_barang, nama, dan harga, serta metode deskripsi yang mencetak informasi tentang produk tersebut.\n",
        "2.   Membuat kelas ProdukMakanan yang mewarisi dari kelas Produk dan memiliki atribut tambahan tanggal_kadaluarsa, serta mengimplementasikan metode deskripsi untuk mencetak informasi tentang produk makanan.\n",
        "1.   Membuat kelas ProdukElektronik yang juga mewarisi dari kelas Produk dan memiliki atribut tambahan garansi, serta mengimplementasikan metode deskripsi untuk mencetak informasi tentang produk elektronik.\n",
        "\n",
        "Program Anda harus mendemonstrasikan penggunaan konsep **overriding** dalam Python dalam konteks produk di supermarket.\n",
        "\n",
        "Selamat mengerjakan!\n",
        "\n",
        "\n",
        "\n",
        "\n",
        "\n"
      ],
      "metadata": {
        "id": "Yo0ulCyP2WPG"
      }
    },
    {
      "cell_type": "code",
      "execution_count": 1,
      "metadata": {
        "id": "tG1-g1OW2KSu"
      },
      "outputs": [],
      "source": [
        "class Produk:\n",
        "   def __init__(self, kodebarang, nama, harga):\n",
        "    self.kodebarang = kodebarang\n",
        "    self.nama = nama\n",
        "    self.harga = harga\n",
        "\n",
        "   def informasi(self):\n",
        "    print('kode barang :', self.kodebarang, 'nama:', self.nama, 'harga:', self.harga)"
      ]
    },
    {
      "cell_type": "code",
      "source": [
        "class ProdukMakanan(Produk):\n",
        "   def __init__(self, kodebarang, nama, harga, tanggal_kadaluarsa):\n",
        "     super().__init__(kodebarang, nama, harga)\n",
        "     self.tanggal_kadaluarsa = tanggal_kadaluarsa\n",
        "\n",
        "   def informasi(self):\n",
        "     super().informasi()\n",
        "     print(' --> tanggal_kadaluarsa:', self.tanggal_kadaluarsa)"
      ],
      "metadata": {
        "id": "oy32Lm4m39l0"
      },
      "execution_count": 2,
      "outputs": []
    },
    {
      "cell_type": "code",
      "source": [
        "class ProdukElektronik(Produk):\n",
        "    def __init__(self, kodebarang, nama, harga, garansi):\n",
        "      super().__init__(kodebarang, nama, harga)\n",
        "      self.garansi = garansi\n",
        "\n",
        "    def informasi(self):\n",
        "      super().informasi()\n",
        "      print(' --> garansi:', self.garansi)"
      ],
      "metadata": {
        "id": "wEgEGwxm4A1y"
      },
      "execution_count": 3,
      "outputs": []
    },
    {
      "cell_type": "code",
      "source": [
        "# Nama Lengkap : silvi duwi nabila\n",
        "# Kelas :11 rpl 2\n",
        "# Contoh penggunaan masing-masing jenis class produk\n",
        "# produk makanan di sini\n",
        "produkA = ProdukMakanan(11, \"NasiPecel\", 90000, \"1H\")\n",
        "\n",
        "# produk elektronik di sini\n",
        "produkB = ProdukElektronik(8, \"Tv\", 500000000, \"1TH\")\n",
        "\n",
        "# Deskripsi produk makanan\n",
        "print(\"Deskripsi Produk Makanan:\")\n",
        "produkA.informasi()\n",
        "\n",
        "# Deskripsi produk elektronik\n",
        "print(\"Deskripsi Produk Elektronik:\")\n",
        "produkB.informasi()\n"
      ],
      "metadata": {
        "id": "noeSP_dw4F4c",
        "outputId": "d7c1b91b-4a4a-4ca6-b7c6-a3258a75e7f7",
        "colab": {
          "base_uri": "https://localhost:8080/"
        }
      },
      "execution_count": 4,
      "outputs": [
        {
          "output_type": "stream",
          "name": "stdout",
          "text": [
            "Deskripsi Produk Makanan:\n",
            "kode barang : 11 nama: NasiPecel harga: 90000\n",
            " --> tanggal_kadaluarsa: 1H\n",
            "Deskripsi Produk Elektronik:\n",
            "kode barang : 8 nama: Tv harga: 500000000\n",
            " --> garansi: 1TH\n"
          ]
        }
      ]
    }
  ]
}